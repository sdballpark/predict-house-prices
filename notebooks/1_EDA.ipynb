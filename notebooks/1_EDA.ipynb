{
 "cells": [
  {
   "cell_type": "markdown",
   "id": "894d8213",
   "metadata": {},
   "source": [
    "# 📊 EDA - House Prices"
   ]
  },
  {
   "cell_type": "code",
   "execution_count": null,
   "id": "222aa0de",
   "metadata": {},
   "outputs": [],
   "source": [
    "import pandas as pd\n",
    "import matplotlib.pyplot as plt\n",
    "import seaborn as sns\n",
    "\n",
    "df = pd.read_csv('../data/raw/house_data.csv')\n",
    "print(df.head())\n",
    "sns.pairplot(df)\n",
    "plt.show()\n"
   ]
  },
  {
   "cell_type": "code",
   "execution_count": null,
   "id": "18db19ed",
   "metadata": {},
   "outputs": [],
   "source": [
    "df.corr()\n"
   ]
  }
 ],
 "metadata": {},
 "nbformat": 4,
 "nbformat_minor": 5
}
