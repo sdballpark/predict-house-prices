{
  "cells": [
    {
      "cell_type": "markdown",
      "id": "1f0cadef",
      "metadata": {
        "id": "1f0cadef"
      },
      "source": [
        "# 🤖 Modeling - Linear Regression"
      ]
    },
    {
      "cell_type": "code",
      "execution_count": 2,
      "id": "20501555",
      "metadata": {
        "id": "20501555",
        "outputId": "d7440823-ab48-44b1-8d72-65545acc2077",
        "colab": {
          "base_uri": "https://localhost:8080/"
        }
      },
      "outputs": [
        {
          "output_type": "stream",
          "name": "stdout",
          "text": [
            "--2025-04-29 04:21:43--  https://raw.githubusercontent.com/sdballpark/predict-house-prices/main/data/raw/house_data.csv\n",
            "Resolving raw.githubusercontent.com (raw.githubusercontent.com)... 185.199.108.133, 185.199.109.133, 185.199.110.133, ...\n",
            "Connecting to raw.githubusercontent.com (raw.githubusercontent.com)|185.199.108.133|:443... connected.\n",
            "HTTP request sent, awaiting response... 200 OK\n",
            "Length: 57366 (56K) [text/plain]\n",
            "Saving to: ‘data/raw/house_data.csv’\n",
            "\n",
            "data/raw/house_data 100%[===================>]  56.02K  --.-KB/s    in 0.07s   \n",
            "\n",
            "2025-04-29 04:21:44 (850 KB/s) - ‘data/raw/house_data.csv’ saved [57366/57366]\n",
            "\n"
          ]
        }
      ],
      "source": [
        "# Auto-download data if running in Colab\n",
        "import os\n",
        "if 'google.colab' in str(get_ipython()):\n",
        "    !mkdir -p data/raw\n",
        "    !wget -O data/raw/house_data.csv https://raw.githubusercontent.com/sdballpark/predict-house-prices/main/data/raw/house_data.csv\n"
      ]
    },
    {
      "cell_type": "code",
      "execution_count": 3,
      "id": "752f3b37",
      "metadata": {
        "id": "752f3b37",
        "outputId": "c0cbae10-6ea8-4b55-d408-39d8313d88b9",
        "colab": {
          "base_uri": "https://localhost:8080/"
        }
      },
      "outputs": [
        {
          "output_type": "stream",
          "name": "stdout",
          "text": [
            "R² Score: -0.0077\n",
            "RMSE: 211468.39\n"
          ]
        }
      ],
      "source": [
        "import pandas as pd\n",
        "from sklearn.linear_model import LinearRegression\n",
        "from sklearn.model_selection import train_test_split\n",
        "from sklearn.metrics import mean_squared_error, r2_score\n",
        "import numpy as np\n",
        "\n",
        "df = pd.read_csv('data/raw/house_data.csv')\n",
        "\n",
        "X = df[['area', 'bedrooms', 'age']]\n",
        "y = df['price']\n",
        "\n",
        "X_train, X_test, y_train, y_test = train_test_split(X, y, test_size=0.2, random_state=42)\n",
        "\n",
        "model = LinearRegression()\n",
        "model.fit(X_train, y_train)\n",
        "\n",
        "y_pred = model.predict(X_test)\n",
        "\n",
        "print(f\"R² Score: {r2_score(y_test, y_pred):.4f}\")\n",
        "print(f\"RMSE: {np.sqrt(mean_squared_error(y_test, y_pred)):.2f}\")\n"
      ]
    }
  ],
  "metadata": {
    "colab": {
      "provenance": []
    },
    "language_info": {
      "name": "python"
    },
    "kernelspec": {
      "name": "python3",
      "display_name": "Python 3"
    }
  },
  "nbformat": 4,
  "nbformat_minor": 5
}