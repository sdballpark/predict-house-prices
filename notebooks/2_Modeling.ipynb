{
 "cells": [
  {
   "cell_type": "markdown",
   "id": "1f0cadef",
   "metadata": {},
   "source": [
    "# 🤖 Modeling - Linear Regression"
   ]
  },
  {
   "cell_type": "code",
   "execution_count": null,
   "id": "20501555",
   "metadata": {},
   "outputs": [],
   "source": [
    "# Auto-download data if running in Colab\n",
    "import os\n",
    "if 'google.colab' in str(get_ipython()):\n",
    "    !mkdir -p data/raw\n",
    "    !wget -O data/raw/house_data.csv https://raw.githubusercontent.com/sdballpark/predict-house-prices/main/data/raw/house_data.csv\n"
   ]
  },
  {
   "cell_type": "code",
   "execution_count": null,
   "id": "752f3b37",
   "metadata": {},
   "outputs": [],
   "source": [
    "import pandas as pd\n",
    "from sklearn.linear_model import LinearRegression\n",
    "from sklearn.model_selection import train_test_split\n",
    "from sklearn.metrics import mean_squared_error, r2_score\n",
    "import numpy as np\n",
    "\n",
    "df = pd.read_csv('data/raw/house_data.csv')\n",
    "\n",
    "X = df[['area', 'bedrooms', 'age']]\n",
    "y = df['price']\n",
    "\n",
    "X_train, X_test, y_train, y_test = train_test_split(X, y, test_size=0.2, random_state=42)\n",
    "\n",
    "model = LinearRegression()\n",
    "model.fit(X_train, y_train)\n",
    "\n",
    "y_pred = model.predict(X_test)\n",
    "\n",
    "print(f\"R² Score: {r2_score(y_test, y_pred):.4f}\")\n",
    "print(f\"RMSE: {np.sqrt(mean_squared_error(y_test, y_pred)):.2f}\")\n"
   ]
  }
 ],
 "metadata": {},
 "nbformat": 4,
 "nbformat_minor": 5
}
